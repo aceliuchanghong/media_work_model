{
 "cells": [
  {
   "cell_type": "markdown",
   "metadata": {
    "collapsed": false
   },
   "source": [
    "### 此文档最后更新于2024年一月中旬"
   ]
  },
  {
   "cell_type": "markdown",
   "metadata": {
    "collapsed": false
   },
   "source": [
    "### 首先安装 anaconda 以及搭建环境(by the way:我是在google colab测试的)"
   ]
  },
  {
   "cell_type": "code",
   "execution_count": null,
   "metadata": {
    "collapsed": false
   },
   "outputs": [],
   "source": [
    "# 此处分开执行吧,中间很多需要自己点击enter的地方,最好后台跑\n",
    "! wget https: // repo.anaconda.com/archive/Anaconda3-2023.09-0-Linux-x86_64.sh\n",
    "! sh Anaconda3-2023.09-0-Linux-x86_64.sh\n",
    "! echo 'export PATH=/root/anaconda3/bin:$PATH' >> ~ /.bashrc\n",
    "! source ~ /.bashrc\n",
    "! conda env list\n",
    "! rm Anaconda3-2023.09-0-Linux-x86_64.sh"
   ]
  },
  {
   "cell_type": "code",
   "execution_count": null,
   "metadata": {
    "collapsed": false
   },
   "outputs": [],
   "source": [
    "!conda create -n langchain_learn python=3.10\n",
    "!conda activate langchain_learn\n",
    "!pip install -r requirements.txt"
   ]
  },
  {
   "cell_type": "markdown",
   "metadata": {
    "collapsed": false
   },
   "source": [
    "### 1.1 "
   ]
  },
  {
   "cell_type": "code",
   "execution_count": null,
   "metadata": {},
   "outputs": [],
   "source": [
    "!curl https://ollama.ai/install.sh | sh"
   ]
  },
  {
   "cell_type": "markdown",
   "metadata": {
    "collapsed": false
   },
   "source": [
    "## 简单使用langchain\n",
    "```\n",
    "输入网页地址==>获得一个简明扼要的描述该地址网页内容的人声语音文件\n",
    "```\n",
    "* 爬虫获取网页内容==>输出该网页html主体文本(A.txt)\n",
    "* llm总结文本(A.txt)输出剧本(A.srt)\n",
    "* tts文字(A.srt)转语音输出音频文件(A.wav)"
   ]
  },
  {
   "cell_type": "code",
   "execution_count": 1,
   "metadata": {
    "ExecuteTime": {
     "end_time": "2024-01-12T13:23:50.253396900Z",
     "start_time": "2024-01-12T13:23:50.234999200Z"
    },
    "collapsed": false
   },
   "outputs": [
    {
     "name": "stdout",
     "output_type": "stream",
     "text": [
      "user_crawler/liu/3356191268/liu_output.txt\n"
     ]
    }
   ],
   "source": [
    "# 之后这儿改成python爬取网站\n",
    "file_txt, file_html = 'user_crawler/liu/3356191268/liu_output.txt', 'user_crawler/liu/3356191268/liu_output_html.txt'\n",
    "print(file_txt)"
   ]
  },
  {
   "cell_type": "code",
   "execution_count": 1,
   "metadata": {
    "collapsed": false,
    "ExecuteTime": {
     "end_time": "2024-01-12T14:02:30.531955700Z",
     "start_time": "2024-01-12T14:02:29.086260100Z"
    }
   },
   "outputs": [],
   "source": [
    "from langchain_openai import ChatOpenAI\n",
    "\n",
    "llm = ChatOpenAI()"
   ]
  },
  {
   "cell_type": "code",
   "execution_count": null,
   "outputs": [],
   "source": [
    "llm.invoke(\"how can langsmith help with testing?\")"
   ],
   "metadata": {
    "collapsed": false,
    "ExecuteTime": {
     "start_time": "2024-01-12T14:05:15.160896500Z"
    }
   }
  },
  {
   "cell_type": "code",
   "execution_count": 4,
   "outputs": [
    {
     "data": {
      "text/plain": "True"
     },
     "execution_count": 4,
     "metadata": {},
     "output_type": "execute_result"
    }
   ],
   "source": [
    "import os\n",
    "os.path.exists('user_crawler/liu/3356191268/liu_output.html')"
   ],
   "metadata": {
    "collapsed": false,
    "ExecuteTime": {
     "end_time": "2024-01-12T14:25:23.111333500Z",
     "start_time": "2024-01-12T14:25:23.063679400Z"
    }
   }
  },
  {
   "cell_type": "code",
   "execution_count": 3,
   "outputs": [
    {
     "ename": "ValueError",
     "evalue": "unstructured package not found, please install it with `pip install unstructured`",
     "output_type": "error",
     "traceback": [
      "\u001B[1;31m---------------------------------------------------------------------------\u001B[0m",
      "\u001B[1;31mModuleNotFoundError\u001B[0m                       Traceback (most recent call last)",
      "File \u001B[1;32m~\\.conda\\envs\\worker\\lib\\site-packages\\langchain_community\\document_loaders\\unstructured.py:48\u001B[0m, in \u001B[0;36mUnstructuredBaseLoader.__init__\u001B[1;34m(self, mode, post_processors, **unstructured_kwargs)\u001B[0m\n\u001B[0;32m     47\u001B[0m \u001B[38;5;28;01mtry\u001B[39;00m:\n\u001B[1;32m---> 48\u001B[0m     \u001B[38;5;28;01mimport\u001B[39;00m \u001B[38;5;21;01munstructured\u001B[39;00m  \u001B[38;5;66;03m# noqa:F401\u001B[39;00m\n\u001B[0;32m     49\u001B[0m \u001B[38;5;28;01mexcept\u001B[39;00m \u001B[38;5;167;01mImportError\u001B[39;00m:\n",
      "\u001B[1;31mModuleNotFoundError\u001B[0m: No module named 'unstructured'",
      "\nDuring handling of the above exception, another exception occurred:\n",
      "\u001B[1;31mValueError\u001B[0m                                Traceback (most recent call last)",
      "Cell \u001B[1;32mIn[3], line 3\u001B[0m\n\u001B[0;32m      1\u001B[0m \u001B[38;5;28;01mfrom\u001B[39;00m \u001B[38;5;21;01mlangchain_community\u001B[39;00m\u001B[38;5;21;01m.\u001B[39;00m\u001B[38;5;21;01mdocument_loaders\u001B[39;00m \u001B[38;5;28;01mimport\u001B[39;00m UnstructuredHTMLLoader\n\u001B[1;32m----> 3\u001B[0m loader \u001B[38;5;241m=\u001B[39m \u001B[43mUnstructuredHTMLLoader\u001B[49m\u001B[43m(\u001B[49m\u001B[38;5;124;43m'\u001B[39;49m\u001B[38;5;124;43muser_crawler/liu/3356191268/liu_output.html\u001B[39;49m\u001B[38;5;124;43m'\u001B[39;49m\u001B[43m)\u001B[49m\n\u001B[0;32m      4\u001B[0m data \u001B[38;5;241m=\u001B[39m loader\u001B[38;5;241m.\u001B[39mload()\n\u001B[0;32m      5\u001B[0m data\n",
      "File \u001B[1;32m~\\.conda\\envs\\worker\\lib\\site-packages\\langchain_community\\document_loaders\\unstructured.py:168\u001B[0m, in \u001B[0;36mUnstructuredFileLoader.__init__\u001B[1;34m(self, file_path, mode, **unstructured_kwargs)\u001B[0m\n\u001B[0;32m    166\u001B[0m \u001B[38;5;250m\u001B[39m\u001B[38;5;124;03m\"\"\"Initialize with file path.\"\"\"\u001B[39;00m\n\u001B[0;32m    167\u001B[0m \u001B[38;5;28mself\u001B[39m\u001B[38;5;241m.\u001B[39mfile_path \u001B[38;5;241m=\u001B[39m file_path\n\u001B[1;32m--> 168\u001B[0m \u001B[38;5;28msuper\u001B[39m()\u001B[38;5;241m.\u001B[39m\u001B[38;5;21m__init__\u001B[39m(mode\u001B[38;5;241m=\u001B[39mmode, \u001B[38;5;241m*\u001B[39m\u001B[38;5;241m*\u001B[39munstructured_kwargs)\n",
      "File \u001B[1;32m~\\.conda\\envs\\worker\\lib\\site-packages\\langchain_community\\document_loaders\\unstructured.py:50\u001B[0m, in \u001B[0;36mUnstructuredBaseLoader.__init__\u001B[1;34m(self, mode, post_processors, **unstructured_kwargs)\u001B[0m\n\u001B[0;32m     48\u001B[0m     \u001B[38;5;28;01mimport\u001B[39;00m \u001B[38;5;21;01munstructured\u001B[39;00m  \u001B[38;5;66;03m# noqa:F401\u001B[39;00m\n\u001B[0;32m     49\u001B[0m \u001B[38;5;28;01mexcept\u001B[39;00m \u001B[38;5;167;01mImportError\u001B[39;00m:\n\u001B[1;32m---> 50\u001B[0m     \u001B[38;5;28;01mraise\u001B[39;00m \u001B[38;5;167;01mValueError\u001B[39;00m(\n\u001B[0;32m     51\u001B[0m         \u001B[38;5;124m\"\u001B[39m\u001B[38;5;124munstructured package not found, please install it with \u001B[39m\u001B[38;5;124m\"\u001B[39m\n\u001B[0;32m     52\u001B[0m         \u001B[38;5;124m\"\u001B[39m\u001B[38;5;124m`pip install unstructured`\u001B[39m\u001B[38;5;124m\"\u001B[39m\n\u001B[0;32m     53\u001B[0m     )\n\u001B[0;32m     54\u001B[0m _valid_modes \u001B[38;5;241m=\u001B[39m {\u001B[38;5;124m\"\u001B[39m\u001B[38;5;124msingle\u001B[39m\u001B[38;5;124m\"\u001B[39m, \u001B[38;5;124m\"\u001B[39m\u001B[38;5;124melements\u001B[39m\u001B[38;5;124m\"\u001B[39m, \u001B[38;5;124m\"\u001B[39m\u001B[38;5;124mpaged\u001B[39m\u001B[38;5;124m\"\u001B[39m}\n\u001B[0;32m     55\u001B[0m \u001B[38;5;28;01mif\u001B[39;00m mode \u001B[38;5;129;01mnot\u001B[39;00m \u001B[38;5;129;01min\u001B[39;00m _valid_modes:\n",
      "\u001B[1;31mValueError\u001B[0m: unstructured package not found, please install it with `pip install unstructured`"
     ]
    }
   ],
   "source": [
    "from langchain_community.document_loaders import UnstructuredHTMLLoader\n",
    "\n",
    "loader = UnstructuredHTMLLoader('user_crawler/liu/3356191268/liu_output.html')\n",
    "data = loader.load()\n",
    "data"
   ],
   "metadata": {
    "collapsed": false,
    "ExecuteTime": {
     "start_time": "2024-01-12T14:23:40.579384600Z"
    }
   }
  },
  {
   "cell_type": "code",
   "execution_count": null,
   "outputs": [],
   "source": [],
   "metadata": {
    "collapsed": false
   }
  }
 ],
 "metadata": {
  "colab": {
   "collapsed_sections": [
    "mLVXJRQ7tiBe",
    "Ao78SDEp1Xbf",
    "j0-Zs6KZ6Dgi",
    "L1nWOkGvCStj",
    "NySCEE0-tKw-",
    "7gGjGMljB24P",
    "dhZGQ72NODIZ",
    "CVApiSmm8ocW",
    "3bUGvgAqJfkt",
    "5QVu6_HVJTlW",
    "00kLaQZWS-Jq",
    "2dh9Zxt6NqAY",
    "dOIICEUZvjR0"
   ],
   "provenance": []
  },
  "kernelspec": {
   "display_name": "Python 3 (ipykernel)",
   "language": "python",
   "name": "python3"
  },
  "language_info": {
   "codemirror_mode": {
    "name": "ipython",
    "version": 3
   },
   "file_extension": ".py",
   "mimetype": "text/x-python",
   "name": "python",
   "nbconvert_exporter": "python",
   "pygments_lexer": "ipython3",
   "version": "3.10.13"
  }
 },
 "nbformat": 4,
 "nbformat_minor": 4
}
