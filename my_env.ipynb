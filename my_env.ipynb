{
 "cells": [
  {
   "cell_type": "markdown",
   "metadata": {
    "collapsed": false,
    "jupyter": {
     "outputs_hidden": false
    }
   },
   "source": [
    "1.安装 lfs 模型下载"
   ]
  },
  {
   "cell_type": "code",
   "execution_count": null,
   "metadata": {
    "collapsed": false,
    "jupyter": {
     "outputs_hidden": false
    }
   },
   "outputs": [],
   "source": [
    "! curl -s https://packagecloud.io/install/repositories/github/git-lfs/script.deb.sh | sudo bash\n",
    "! sudo apt-get install git-lfs\n",
    "! git lfs install\n",
    "! git clone https://huggingface.co/cloudyu/Mixtral_34Bx2_MoE_60B\n",
    "! git lfs ls-files"
   ]
  },
  {
   "cell_type": "markdown",
   "metadata": {
    "collapsed": false,
    "jupyter": {
     "outputs_hidden": false
    }
   },
   "source": [
    "2.安装 anaconda"
   ]
  },
  {
   "cell_type": "code",
   "execution_count": null,
   "metadata": {
    "collapsed": false,
    "jupyter": {
     "outputs_hidden": false
    }
   },
   "outputs": [],
   "source": [
    "! wget https://repo.anaconda.com/archive/Anaconda3-2023.09-0-Linux-x86_64.sh\n",
    "! sh Anaconda3-2023.09-0-Linux-x86_64.sh\n",
    "! echo 'export PATH=/root/anaconda3/bin:$PATH'>> ~/.bashrc\n",
    "! source ~/.bashrc\n",
    "! conda env list\n",
    "! rm Anaconda3-2023.09-0-Linux-x86_64.sh"
   ]
  },
  {
   "cell_type": "markdown",
   "metadata": {
    "collapsed": false,
    "jupyter": {
     "outputs_hidden": false
    }
   },
   "source": [
    "3.nodejs 和 npm 安装"
   ]
  },
  {
   "cell_type": "code",
   "execution_count": null,
   "metadata": {
    "collapsed": false,
    "jupyter": {
     "outputs_hidden": false
    }
   },
   "outputs": [],
   "source": [
    "! NODE_VER=20.10.0\n",
    "! wget https://nodejs.org/dist/v${NODE_VER}/node-v${NODE_VER}-linux-x64.tar.xz\n",
    "! sudo tar Jxvf ./node-v${NODE_VER}-linux-x64.tar.xz -C /usr/local/\n",
    "! sudo ln -sf  /usr/local/node-v${NODE_VER}-linux-x64/bin/* /usr/local/bin/\n",
    "! sudo ln -sf  /usr/local/node-v${NODE_VER}-linux-x64/bin/* /usr/local/bin/\n",
    "! echo 'export PATH=\"${PATH}:/usr/local/node-v${NODE_VER}-linux-x64/bin\"' >> ~/.bashrc\n",
    "! source ~/.bashrc\n",
    "! rm node-v${NODE_VER}-linux-x64.tar.xz\n",
    "# 升级\n",
    "! node -v\n",
    "! npm -v"
   ]
  },
  {
   "cell_type": "markdown",
   "metadata": {
    "collapsed": false,
    "jupyter": {
     "outputs_hidden": false
    }
   },
   "source": [
    "4.安装 1panel\n",
    "1pctl help"
   ]
  },
  {
   "cell_type": "code",
   "execution_count": null,
   "metadata": {
    "collapsed": false,
    "jupyter": {
     "outputs_hidden": false
    }
   },
   "outputs": [],
   "source": [
    "! curl -sSL https://resource.fit2cloud.com/1panel/package/quick_start.sh -o quick_start.sh && sudo bash quick_start.sh"
   ]
  },
  {
   "cell_type": "markdown",
   "metadata": {
    "collapsed": false,
    "jupyter": {
     "outputs_hidden": false
    }
   },
   "source": [
    "5.docker 安装\n",
    "#https://www.linuxtechi.com/install-use-docker-on-ubuntu/"
   ]
  },
  {
   "cell_type": "code",
   "execution_count": null,
   "metadata": {
    "collapsed": false,
    "jupyter": {
     "outputs_hidden": false
    }
   },
   "outputs": [],
   "source": [
    "! sudo apt upgrade\n",
    "#!apt-get remove docker docker-engine docker.io containerd runc\n",
    "! sudo apt install ca-certificates curl gnupg -y\n",
    "! sudo install -m 0755 -d /etc/apt/keyrings\n",
    "! curl -fsSL https://download.docker.com/linux/ubuntu/gpg | sudo gpg --dearmor -o /etc/apt/keyrings/docker.gpg\n",
    "! sudo chmod a+r /etc/apt/keyrings/docker.gpg\n",
    "! echo \\\n",
    "\"deb [arch=\"$(dpkg --print-architecture)\" signed-by=/etc/apt/keyrings/docker.gpg] https://download.docker.com/linux/ubuntu \\\n",
    "\"$(. /etc/os-release && echo \"$VERSION_CODENAME\")\" stable\" | \\\n",
    "sudo tee /etc/apt/sources.list.d/docker.list > /dev/null\n",
    "! sudo apt update\n",
    "! sudo apt install docker-ce docker-ce-cli containerd.io docker-buildx-plugin docker-compose-plugin -y\n",
    "! sudo usermod -aG docker $USER\n",
    "! newgrp docker\n",
    "! docker version\n",
    "! docker run hello-world\n",
    "# Docker Compose Installation on Ubuntu 22.04\n",
    "! sudo curl -L \"https://github.com/docker/compose/releases/download/v2.20.0/docker-compose-$(uname -s)-$(uname -m)\" -o /usr/local/bin/docker-compose\n",
    "! sudo chmod +x /usr/local/bin/docker-compose\n",
    "! docker-compose --version"
   ]
  },
  {
   "cell_type": "markdown",
   "metadata": {
    "collapsed": false,
    "jupyter": {
     "outputs_hidden": false
    }
   },
   "source": [
    "6.java 安装"
   ]
  },
  {
   "cell_type": "code",
   "execution_count": null,
   "metadata": {
    "collapsed": false,
    "jupyter": {
     "outputs_hidden": false
    }
   },
   "outputs": [],
   "source": [
    "! sudo apt update && sudo apt upgrade\n",
    "! sudo apt install default-jre default-jdk\n",
    "! java -version\n",
    "! javac -version"
   ]
  }
 ],
 "metadata": {
  "colab": {
   "provenance": [],
   "toc_visible": true
  },
  "kernelspec": {
   "display_name": "Python 3 (ipykernel)",
   "language": "python",
   "name": "python3"
  },
  "language_info": {
   "codemirror_mode": {
    "name": "ipython",
    "version": 3
   },
   "file_extension": ".py",
   "mimetype": "text/x-python",
   "name": "python",
   "nbconvert_exporter": "python",
   "pygments_lexer": "ipython3",
   "version": "3.10.13"
  }
 },
 "nbformat": 4,
 "nbformat_minor": 4
}
